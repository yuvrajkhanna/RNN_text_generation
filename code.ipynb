{
 "cells": [
  {
   "cell_type": "code",
   "execution_count": 1,
   "metadata": {},
   "outputs": [
    {
     "name": "stderr",
     "output_type": "stream",
     "text": [
      "Using TensorFlow backend.\n"
     ]
    }
   ],
   "source": [
    "import numpy as np\n",
    "import keras\n",
    "from keras.models import Sequential\n",
    "from keras.layers import LSTM,Dropout,Dense\n",
    "from keras.utils import np_utils\n",
    "from sklearn.model_selection import train_test_split"
   ]
  },
  {
   "cell_type": "code",
   "execution_count": 2,
   "metadata": {},
   "outputs": [],
   "source": [
    "data=open('data').read().lower()"
   ]
  },
  {
   "cell_type": "code",
   "execution_count": 3,
   "metadata": {},
   "outputs": [],
   "source": [
    "chars=sorted(set(data))"
   ]
  },
  {
   "cell_type": "code",
   "execution_count": 4,
   "metadata": {},
   "outputs": [],
   "source": [
    "char_to_id={char:iD for iD,char in enumerate(chars)}\n",
    "iD_to_char={iD:char for iD,char in enumerate(chars)}"
   ]
  },
  {
   "cell_type": "code",
   "execution_count": 5,
   "metadata": {},
   "outputs": [
    {
     "data": {
      "text/plain": [
       "{'\\n': 0,\n",
       " ' ': 1,\n",
       " '!': 2,\n",
       " '\"': 3,\n",
       " \"'\": 4,\n",
       " ',': 5,\n",
       " '-': 6,\n",
       " '.': 7,\n",
       " ':': 8,\n",
       " ';': 9,\n",
       " '?': 10,\n",
       " 'a': 11,\n",
       " 'b': 12,\n",
       " 'c': 13,\n",
       " 'd': 14,\n",
       " 'e': 15,\n",
       " 'f': 16,\n",
       " 'g': 17,\n",
       " 'h': 18,\n",
       " 'i': 19,\n",
       " 'j': 20,\n",
       " 'k': 21,\n",
       " 'l': 22,\n",
       " 'm': 23,\n",
       " 'n': 24,\n",
       " 'o': 25,\n",
       " 'p': 26,\n",
       " 'q': 27,\n",
       " 'r': 28,\n",
       " 's': 29,\n",
       " 't': 30,\n",
       " 'u': 31,\n",
       " 'v': 32,\n",
       " 'w': 33,\n",
       " 'x': 34,\n",
       " 'y': 35,\n",
       " 'z': 36,\n",
       " '’': 37,\n",
       " '“': 38}"
      ]
     },
     "execution_count": 5,
     "metadata": {},
     "output_type": "execute_result"
    }
   ],
   "source": [
    "char_to_id"
   ]
  },
  {
   "cell_type": "code",
   "execution_count": 6,
   "metadata": {},
   "outputs": [],
   "source": [
    "no=100\n",
    "charsx2=[]\n",
    "charsy2=[]\n",
    "for i in range(len(data)-no):\n",
    "    charsx=data[i:i+no]\n",
    "    charsy=data[i+no]\n",
    "    charsx2.append([char_to_id[t] for t in charsx])\n",
    "    charsy2.append(char_to_id[charsy])"
   ]
  },
  {
   "cell_type": "code",
   "execution_count": 7,
   "metadata": {},
   "outputs": [],
   "source": [
    "X=np.reshape(charsx2,(len(charsx2),no,1))\n",
    "Y=np.array(charsy2)"
   ]
  },
  {
   "cell_type": "code",
   "execution_count": 8,
   "metadata": {},
   "outputs": [],
   "source": [
    "X=np_utils.to_categorical(X)"
   ]
  },
  {
   "cell_type": "code",
   "execution_count": 9,
   "metadata": {
    "scrolled": true
   },
   "outputs": [],
   "source": [
    "Y=np_utils.to_categorical(Y)"
   ]
  },
  {
   "cell_type": "code",
   "execution_count": 10,
   "metadata": {},
   "outputs": [
    {
     "data": {
      "text/plain": [
       "(21485, 100, 39)"
      ]
     },
     "execution_count": 10,
     "metadata": {},
     "output_type": "execute_result"
    }
   ],
   "source": [
    "X.shape"
   ]
  },
  {
   "cell_type": "code",
   "execution_count": 11,
   "metadata": {},
   "outputs": [
    {
     "data": {
      "text/plain": [
       "(21485, 39)"
      ]
     },
     "execution_count": 11,
     "metadata": {},
     "output_type": "execute_result"
    }
   ],
   "source": [
    "Y.shape"
   ]
  },
  {
   "cell_type": "code",
   "execution_count": 12,
   "metadata": {},
   "outputs": [],
   "source": [
    "model=Sequential()\n",
    "model.add(LSTM(256,input_shape=(X.shape[1],X.shape[2])))\n",
    "model.add(Dropout(0.2))\n",
    "model.add(Dense(len(chars),activation='softmax'))"
   ]
  },
  {
   "cell_type": "code",
   "execution_count": 13,
   "metadata": {},
   "outputs": [],
   "source": [
    "model.compile(loss='categorical_crossentropy',optimizer='adam')"
   ]
  },
  {
   "cell_type": "code",
   "execution_count": 14,
   "metadata": {},
   "outputs": [
    {
     "name": "stdout",
     "output_type": "stream",
     "text": [
      "Epoch 1/20\n",
      "21485/21485 [==============================] - 42s 2ms/step - loss: 2.9460\n",
      "Epoch 2/20\n",
      "21485/21485 [==============================] - 39s 2ms/step - loss: 2.4778\n",
      "Epoch 3/20\n",
      "21485/21485 [==============================] - 38s 2ms/step - loss: 2.2210\n",
      "Epoch 4/20\n",
      "21485/21485 [==============================] - 36s 2ms/step - loss: 2.0952\n",
      "Epoch 5/20\n",
      "21485/21485 [==============================] - 35s 2ms/step - loss: 2.0089\n",
      "Epoch 6/20\n",
      "21485/21485 [==============================] - 36s 2ms/step - loss: 1.9277\n",
      "Epoch 7/20\n",
      "21485/21485 [==============================] - 36s 2ms/step - loss: 1.8538\n",
      "Epoch 8/20\n",
      "21485/21485 [==============================] - 36s 2ms/step - loss: 1.7920\n",
      "Epoch 9/20\n",
      "21485/21485 [==============================] - 36s 2ms/step - loss: 1.7355\n",
      "Epoch 10/20\n",
      "21485/21485 [==============================] - 36s 2ms/step - loss: 1.6761\n",
      "Epoch 11/20\n",
      "21485/21485 [==============================] - 36s 2ms/step - loss: 1.6204\n",
      "Epoch 12/20\n",
      "21485/21485 [==============================] - 36s 2ms/step - loss: 1.5663\n",
      "Epoch 13/20\n",
      "21485/21485 [==============================] - 38s 2ms/step - loss: 1.5156\n",
      "Epoch 14/20\n",
      "21485/21485 [==============================] - 37s 2ms/step - loss: 1.4493\n",
      "Epoch 15/20\n",
      "21485/21485 [==============================] - 37s 2ms/step - loss: 1.3887\n",
      "Epoch 16/20\n",
      "21485/21485 [==============================] - 37s 2ms/step - loss: 1.3253\n",
      "Epoch 17/20\n",
      "21485/21485 [==============================] - 37s 2ms/step - loss: 1.2647\n",
      "Epoch 18/20\n",
      "21485/21485 [==============================] - 38s 2ms/step - loss: 1.1954\n",
      "Epoch 19/20\n",
      "21485/21485 [==============================] - 36s 2ms/step - loss: 1.1354\n",
      "Epoch 20/20\n",
      "21485/21485 [==============================] - 36s 2ms/step - loss: 1.0626\n"
     ]
    },
    {
     "data": {
      "text/plain": [
       "<keras.callbacks.History at 0x7f3df8c65be0>"
      ]
     },
     "execution_count": 14,
     "metadata": {},
     "output_type": "execute_result"
    }
   ],
   "source": [
    "model.fit(X,Y,epochs=20,batch_size=128)"
   ]
  },
  {
   "cell_type": "code",
   "execution_count": 15,
   "metadata": {},
   "outputs": [],
   "source": [
    "randomval=np.random.randint(0,len(charsx2)-1)\n",
    "randstart=X[randomval]"
   ]
  },
  {
   "cell_type": "code",
   "execution_count": 16,
   "metadata": {},
   "outputs": [
    {
     "data": {
      "text/plain": [
       "(100, 39)"
      ]
     },
     "execution_count": 16,
     "metadata": {},
     "output_type": "execute_result"
    }
   ],
   "source": [
    "randstart.shape"
   ]
  },
  {
   "cell_type": "code",
   "execution_count": 17,
   "metadata": {},
   "outputs": [
    {
     "data": {
      "text/plain": [
       "(21485, 100, 39)"
      ]
     },
     "execution_count": 17,
     "metadata": {},
     "output_type": "execute_result"
    }
   ],
   "source": [
    "X.shape"
   ]
  },
  {
   "cell_type": "code",
   "execution_count": 18,
   "metadata": {},
   "outputs": [],
   "source": [
    "randstart=np.reshape(randstart,(1,no,len(chars)))"
   ]
  },
  {
   "cell_type": "code",
   "execution_count": 19,
   "metadata": {},
   "outputs": [],
   "source": [
    "for i in range(500):\n",
    "    X=randstart[0][i:no+i]\n",
    "    X=np.reshape(X,(1,no,len(chars)))\n",
    "    Y=model.predict(X)\n",
    "    index=np.argmax(Y)\n",
    "    index2=np_utils.to_categorical(index,num_classes=len(chars))\n",
    "    index2=np.reshape(index2,(1,len(chars)))\n",
    "    randstart=np.append(randstart,[index2],1)"
   ]
  },
  {
   "cell_type": "code",
   "execution_count": 20,
   "metadata": {},
   "outputs": [],
   "source": [
    "randstart=np.reshape(randstart,(-1,X.shape[2]))"
   ]
  },
  {
   "cell_type": "code",
   "execution_count": 21,
   "metadata": {},
   "outputs": [],
   "source": [
    "words_in_ids=np.argmax(randstart,axis=1)"
   ]
  },
  {
   "cell_type": "code",
   "execution_count": 22,
   "metadata": {
    "scrolled": true
   },
   "outputs": [],
   "source": [
    "words=[]"
   ]
  },
  {
   "cell_type": "code",
   "execution_count": 23,
   "metadata": {},
   "outputs": [
    {
     "data": {
      "text/plain": [
       "(600,)"
      ]
     },
     "execution_count": 23,
     "metadata": {},
     "output_type": "execute_result"
    }
   ],
   "source": [
    "words_in_ids.shape"
   ]
  },
  {
   "cell_type": "code",
   "execution_count": 24,
   "metadata": {},
   "outputs": [],
   "source": [
    "words=[iD_to_char[t] for t in words_in_ids]"
   ]
  },
  {
   "cell_type": "code",
   "execution_count": 25,
   "metadata": {},
   "outputs": [],
   "source": [
    "write=''"
   ]
  },
  {
   "cell_type": "code",
   "execution_count": 26,
   "metadata": {},
   "outputs": [],
   "source": [
    "for each in words:\n",
    "    write+=each"
   ]
  },
  {
   "cell_type": "code",
   "execution_count": 27,
   "metadata": {},
   "outputs": [
    {
     "data": {
      "text/plain": [
       "'re lying on the withered violets. \\n\\n\"i am beginning to be appreciated,\" he cried; \"this is from some the mother and every, and was he was beautiful he hed and to the pot. the sallow little swallow was so beautiful is the bead in the borking the beathing the saty on the statue in a farnot was to be and red and looked under, and said to the pot. the sallow cound and the meres and so the pot. the sailo shat to the pot and reat and cried. the happy prince looked ho sted the prince, \"you he ded not wele be and her little boy with you and ligel, and he was to be and red and with the magic pot for a '"
      ]
     },
     "execution_count": 27,
     "metadata": {},
     "output_type": "execute_result"
    }
   ],
   "source": [
    "write[:]"
   ]
  },
  {
   "cell_type": "code",
   "execution_count": 28,
   "metadata": {},
   "outputs": [
    {
     "data": {
      "text/plain": [
       "' the mother and every, and was he was beautiful he hed and to the pot. the sallow little swallow was so beautiful is the bead in the borking the beathing the saty on the statue in a farnot was to be and red and looked under, and said to the pot. the sallow cound and the meres and so the pot. the sailo shat to the pot and reat and cried. the happy prince looked ho sted the prince, \"you he ded not wele be and her little boy with you and ligel, and he was to be and red and with the magic pot for a '"
      ]
     },
     "execution_count": 28,
     "metadata": {},
     "output_type": "execute_result"
    }
   ],
   "source": [
    "write[100:]"
   ]
  },
  {
   "cell_type": "code",
   "execution_count": null,
   "metadata": {},
   "outputs": [],
   "source": []
  }
 ],
 "metadata": {
  "kernelspec": {
   "display_name": "tf",
   "language": "python",
   "name": "tf"
  },
  "language_info": {
   "codemirror_mode": {
    "name": "ipython",
    "version": 3
   },
   "file_extension": ".py",
   "mimetype": "text/x-python",
   "name": "python",
   "nbconvert_exporter": "python",
   "pygments_lexer": "ipython3",
   "version": "3.6.6"
  }
 },
 "nbformat": 4,
 "nbformat_minor": 2
}
